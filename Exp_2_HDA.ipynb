{
  "cells": [
    {
      "cell_type": "code",
      "execution_count": 2,
      "metadata": {
        "id": "UJokAIS_xHzK"
      },
      "outputs": [
        {
          "name": "stdout",
          "output_type": "stream",
          "text": [
            "Defaulting to user installation because normal site-packages is not writeable\n",
            "Collecting pandas\n",
            "  Downloading pandas-2.2.3-cp39-cp39-macosx_11_0_arm64.whl.metadata (89 kB)\n",
            "Requirement already satisfied: numpy in /Users/Neha_Kohli/Library/Python/3.9/lib/python/site-packages (2.0.2)\n",
            "Collecting seaborn\n",
            "  Using cached seaborn-0.13.2-py3-none-any.whl.metadata (5.4 kB)\n",
            "Requirement already satisfied: matplotlib in /Users/Neha_Kohli/Library/Python/3.9/lib/python/site-packages (3.9.4)\n",
            "Collecting scikit-learn\n",
            "  Using cached scikit_learn-1.6.1-cp39-cp39-macosx_12_0_arm64.whl.metadata (31 kB)\n",
            "Requirement already satisfied: python-dateutil>=2.8.2 in /Users/Neha_Kohli/Library/Python/3.9/lib/python/site-packages (from pandas) (2.9.0.post0)\n",
            "Collecting pytz>=2020.1 (from pandas)\n",
            "  Using cached pytz-2025.2-py2.py3-none-any.whl.metadata (22 kB)\n",
            "Collecting tzdata>=2022.7 (from pandas)\n",
            "  Using cached tzdata-2025.2-py2.py3-none-any.whl.metadata (1.4 kB)\n",
            "Requirement already satisfied: contourpy>=1.0.1 in /Users/Neha_Kohli/Library/Python/3.9/lib/python/site-packages (from matplotlib) (1.3.0)\n",
            "Requirement already satisfied: cycler>=0.10 in /Users/Neha_Kohli/Library/Python/3.9/lib/python/site-packages (from matplotlib) (0.12.1)\n",
            "Requirement already satisfied: fonttools>=4.22.0 in /Users/Neha_Kohli/Library/Python/3.9/lib/python/site-packages (from matplotlib) (4.57.0)\n",
            "Requirement already satisfied: kiwisolver>=1.3.1 in /Users/Neha_Kohli/Library/Python/3.9/lib/python/site-packages (from matplotlib) (1.4.7)\n",
            "Requirement already satisfied: packaging>=20.0 in /Users/Neha_Kohli/Library/Python/3.9/lib/python/site-packages (from matplotlib) (24.2)\n",
            "Requirement already satisfied: pillow>=8 in /Users/Neha_Kohli/Library/Python/3.9/lib/python/site-packages (from matplotlib) (11.0.0)\n",
            "Requirement already satisfied: pyparsing>=2.3.1 in /Users/Neha_Kohli/Library/Python/3.9/lib/python/site-packages (from matplotlib) (3.2.3)\n",
            "Requirement already satisfied: importlib-resources>=3.2.0 in /Users/Neha_Kohli/Library/Python/3.9/lib/python/site-packages (from matplotlib) (6.5.2)\n",
            "Requirement already satisfied: scipy>=1.6.0 in /Users/Neha_Kohli/Library/Python/3.9/lib/python/site-packages (from scikit-learn) (1.13.1)\n",
            "Collecting joblib>=1.2.0 (from scikit-learn)\n",
            "  Using cached joblib-1.4.2-py3-none-any.whl.metadata (5.4 kB)\n",
            "Collecting threadpoolctl>=3.1.0 (from scikit-learn)\n",
            "  Downloading threadpoolctl-3.6.0-py3-none-any.whl.metadata (13 kB)\n",
            "Requirement already satisfied: zipp>=3.1.0 in /Users/Neha_Kohli/Library/Python/3.9/lib/python/site-packages (from importlib-resources>=3.2.0->matplotlib) (3.21.0)\n",
            "Requirement already satisfied: six>=1.5 in /Library/Developer/CommandLineTools/Library/Frameworks/Python3.framework/Versions/3.9/lib/python3.9/site-packages (from python-dateutil>=2.8.2->pandas) (1.15.0)\n",
            "Downloading pandas-2.2.3-cp39-cp39-macosx_11_0_arm64.whl (11.3 MB)\n",
            "\u001b[2K   \u001b[90m━━━━━━━━━━━━━━━━━━━━━━━━━━━━━━━━━━━━━━━━\u001b[0m \u001b[32m11.3/11.3 MB\u001b[0m \u001b[31m1.2 MB/s\u001b[0m eta \u001b[36m0:00:00\u001b[0m00:01\u001b[0m00:01\u001b[0m\n",
            "\u001b[?25hUsing cached seaborn-0.13.2-py3-none-any.whl (294 kB)\n",
            "Using cached scikit_learn-1.6.1-cp39-cp39-macosx_12_0_arm64.whl (11.1 MB)\n",
            "Using cached joblib-1.4.2-py3-none-any.whl (301 kB)\n",
            "Using cached pytz-2025.2-py2.py3-none-any.whl (509 kB)\n",
            "Downloading threadpoolctl-3.6.0-py3-none-any.whl (18 kB)\n",
            "Using cached tzdata-2025.2-py2.py3-none-any.whl (347 kB)\n",
            "Installing collected packages: pytz, tzdata, threadpoolctl, joblib, scikit-learn, pandas, seaborn\n",
            "Successfully installed joblib-1.4.2 pandas-2.2.3 pytz-2025.2 scikit-learn-1.6.1 seaborn-0.13.2 threadpoolctl-3.6.0 tzdata-2025.2\n",
            "\n",
            "\u001b[1m[\u001b[0m\u001b[34;49mnotice\u001b[0m\u001b[1;39;49m]\u001b[0m\u001b[39;49m A new release of pip is available: \u001b[0m\u001b[31;49m24.2\u001b[0m\u001b[39;49m -> \u001b[0m\u001b[32;49m25.0.1\u001b[0m\n",
            "\u001b[1m[\u001b[0m\u001b[34;49mnotice\u001b[0m\u001b[1;39;49m]\u001b[0m\u001b[39;49m To update, run: \u001b[0m\u001b[32;49m/Library/Developer/CommandLineTools/usr/bin/python3 -m pip install --upgrade pip\u001b[0m\n",
            "Note: you may need to restart the kernel to use updated packages.\n"
          ]
        }
      ],
      "source": [
        "# ECG Signal Preprocessing & EDA\n",
        "# ============================\n",
        "# Install missing packages\n",
        "%pip install pandas numpy seaborn matplotlib scikit-learn\n",
        "\n",
        "import pandas as pd\n",
        "import numpy as np\n",
        "import seaborn as sns\n",
        "import matplotlib.pyplot as plt\n",
        "import ast\n",
        "from sklearn.preprocessing import MinMaxScaler"
      ]
    },
    {
      "cell_type": "code",
      "execution_count": 3,
      "metadata": {
        "id": "w6N4X8Gi2efX"
      },
      "outputs": [],
      "source": [
        "df = pd.read_csv(\"Exp_2_HDA_ecg_dataset_with_missing_values.csv\", on_bad_lines=\"skip\")\n",
        "\n"
      ]
    },
    {
      "cell_type": "code",
      "execution_count": 4,
      "metadata": {
        "colab": {
          "base_uri": "https://localhost:8080/"
        },
        "id": "U6kLQeKz2hrK",
        "outputId": "23ffa7c8-d24c-44b7-9ee4-7bc4e306e938"
      },
      "outputs": [
        {
          "name": "stdout",
          "output_type": "stream",
          "text": [
            "\n",
            "Missing Values:\n",
            " Signal_ID           0\n",
            "ECG_Signal_Type     0\n",
            "ECG_Values          0\n",
            "QRS_Mean_Error     50\n",
            "Label               0\n",
            "ECG_Mean           25\n",
            "dtype: int64\n"
          ]
        }
      ],
      "source": [
        "print(\"\\nMissing Values:\\n\", df.isnull().sum())"
      ]
    },
    {
      "cell_type": "code",
      "execution_count": 5,
      "metadata": {
        "colab": {
          "base_uri": "https://localhost:8080/"
        },
        "id": "SREFf3Y54cEX",
        "outputId": "fb0f9aa0-cca7-4ad6-9daa-6b6f96099d61"
      },
      "outputs": [
        {
          "name": "stdout",
          "output_type": "stream",
          "text": [
            "Signal_ID          0\n",
            "ECG_Signal_Type    0\n",
            "ECG_Values         0\n",
            "QRS_Mean_Error     0\n",
            "Label              0\n",
            "ECG_Mean           0\n",
            "dtype: int64\n"
          ]
        },
        {
          "name": "stderr",
          "output_type": "stream",
          "text": [
            "/var/folders/nh/53g1gsld1rbfcq5yc_8w6_580000gp/T/ipykernel_29553/3787239438.py:2: FutureWarning: A value is trying to be set on a copy of a DataFrame or Series through chained assignment using an inplace method.\n",
            "The behavior will change in pandas 3.0. This inplace method will never work because the intermediate object on which we are setting values always behaves as a copy.\n",
            "\n",
            "For example, when doing 'df[col].method(value, inplace=True)', try using 'df.method({col: value}, inplace=True)' or df[col] = df[col].method(value) instead, to perform the operation inplace on the original object.\n",
            "\n",
            "\n",
            "  df[\"QRS_Mean_Error\"].fillna(df[\"QRS_Mean_Error\"].median(), inplace=True)\n",
            "/var/folders/nh/53g1gsld1rbfcq5yc_8w6_580000gp/T/ipykernel_29553/3787239438.py:5: FutureWarning: A value is trying to be set on a copy of a DataFrame or Series through chained assignment using an inplace method.\n",
            "The behavior will change in pandas 3.0. This inplace method will never work because the intermediate object on which we are setting values always behaves as a copy.\n",
            "\n",
            "For example, when doing 'df[col].method(value, inplace=True)', try using 'df.method({col: value}, inplace=True)' or df[col] = df[col].method(value) instead, to perform the operation inplace on the original object.\n",
            "\n",
            "\n",
            "  df[\"ECG_Mean\"].fillna(df[\"ECG_Mean\"].mean(), inplace=True)\n"
          ]
        }
      ],
      "source": [
        "# Fill missing values in 'QRS_Mean_Error' with median\n",
        "df[\"QRS_Mean_Error\"].fillna(df[\"QRS_Mean_Error\"].median(), inplace=True)\n",
        "\n",
        "# Fill missing values in 'ECG_Mean' with mean\n",
        "df[\"ECG_Mean\"].fillna(df[\"ECG_Mean\"].mean(), inplace=True)\n",
        "\n",
        "# Verify missing values are handled\n",
        "print(df.isnull().sum())\n"
      ]
    },
    {
      "cell_type": "markdown",
      "metadata": {
        "id": "H4OEHqao4nc8"
      },
      "source": [
        "normalization\n"
      ]
    },
    {
      "cell_type": "code",
      "execution_count": 6,
      "metadata": {
        "colab": {
          "base_uri": "https://localhost:8080/"
        },
        "id": "aamcNpef4p-t",
        "outputId": "54ebbece-e0d0-47f1-d177-d5fcef355413"
      },
      "outputs": [
        {
          "name": "stdout",
          "output_type": "stream",
          "text": [
            "   Signal_ID ECG_Signal_Type  \\\n",
            "0          1          Normal   \n",
            "1          2        Abnormal   \n",
            "2          3        Abnormal   \n",
            "3          4          Normal   \n",
            "4          5          Normal   \n",
            "\n",
            "                                          ECG_Values  QRS_Mean_Error  Label  \\\n",
            "0  [0.34175597577715944, 1.8761708392158862, 0.95...        0.756055      1   \n",
            "1  [-0.6465728842425266, -1.081548003614395, 1.68...        0.627152      0   \n",
            "2  [-0.4593608995402441, -0.8498443694647918, 0.8...        0.424662      0   \n",
            "3  [-0.24032539815813503, -0.3748208075495975, 0....        0.789030      1   \n",
            "4  [0.8339221545489041, 0.4591800792284367, -0.07...        0.101244      0   \n",
            "\n",
            "   ECG_Mean  \n",
            "0  0.524775  \n",
            "1  0.400513  \n",
            "2  0.543877  \n",
            "3  0.555534  \n",
            "4  0.773739  \n"
          ]
        }
      ],
      "source": [
        "from sklearn.preprocessing import MinMaxScaler\n",
        "\n",
        "# Select numerical columns for normalization\n",
        "num_cols = [\"QRS_Mean_Error\", \"ECG_Mean\"]\n",
        "scaler = MinMaxScaler()\n",
        "\n",
        "df[num_cols] = scaler.fit_transform(df[num_cols])\n",
        "\n",
        "# Check normalized values\n",
        "print(df.head())\n"
      ]
    },
    {
      "cell_type": "markdown",
      "metadata": {
        "id": "x2ysoz6A4t8m"
      },
      "source": [
        "Feature Extraction"
      ]
    },
    {
      "cell_type": "code",
      "execution_count": 7,
      "metadata": {
        "colab": {
          "base_uri": "https://localhost:8080/"
        },
        "id": "VxVmOlH64wG3",
        "outputId": "a398b197-d231-406a-c16a-1a63c8561091"
      },
      "outputs": [
        {
          "name": "stdout",
          "output_type": "stream",
          "text": [
            "   Signal_ID ECG_Signal_Type  QRS_Mean_Error  Label  ECG_Mean   ECG_Std  \\\n",
            "0          1          Normal        0.756055      1  0.524775  1.080294   \n",
            "1          2        Abnormal        0.627152      0  0.400513  0.968195   \n",
            "2          3        Abnormal        0.424662      0  0.543877  1.056035   \n",
            "3          4          Normal        0.789030      1  0.555534  0.962541   \n",
            "4          5          Normal        0.101244      0  0.773739  0.939766   \n",
            "\n",
            "    ECG_Max   ECG_Min  \n",
            "0  3.078881 -2.301921  \n",
            "1  2.270693 -2.471645  \n",
            "2  2.573360 -2.696887  \n",
            "3  2.632382 -2.081929  \n",
            "4  2.526932 -1.660961  \n"
          ]
        }
      ],
      "source": [
        "# Convert ECG_Values (list of 100 values) into meaningful features\n",
        "df[\"ECG_Std\"] = df[\"ECG_Values\"].apply(lambda x: np.std(eval(x)))  # Standard Deviation\n",
        "df[\"ECG_Max\"] = df[\"ECG_Values\"].apply(lambda x: np.max(eval(x)))  # Max Value\n",
        "df[\"ECG_Min\"] = df[\"ECG_Values\"].apply(lambda x: np.min(eval(x)))  # Min Value\n",
        "\n",
        "# Drop ECG_Values column (not needed anymore)\n",
        "df.drop(columns=[\"ECG_Values\"], inplace=True)\n",
        "\n",
        "print(df.head())\n"
      ]
    },
    {
      "cell_type": "markdown",
      "metadata": {
        "id": "NrFLwuXS41Ci"
      },
      "source": [
        "4. Data Analytics & Visualization"
      ]
    },
    {
      "cell_type": "code",
      "execution_count": 8,
      "metadata": {
        "colab": {
          "base_uri": "https://localhost:8080/",
          "height": 410
        },
        "id": "Nj8296zV42-f",
        "outputId": "49f97ae9-865a-4d44-997a-95eaa3eca901"
      },
      "outputs": [
        {
          "data": {
            "image/png": "[encoded data removed]",
            "text/plain": [
              "<Figure size 600x400 with 1 Axes>"
            ]
          },
          "metadata": {},
          "output_type": "display_data"
        }
      ],
      "source": [
        "#(i) Class Distribution\n",
        "import matplotlib.pyplot as plt\n",
        "import seaborn as sns\n",
        "\n",
        "# Countplot of ECG Signal Types\n",
        "plt.figure(figsize=(6,4))\n",
        "sns.countplot(x=\"ECG_Signal_Type\", data=df)\n",
        "plt.title(\"ECG Signal Type Distribution\")\n",
        "plt.show()"
      ]
    },
    {
      "cell_type": "code",
      "execution_count": 9,
      "metadata": {
        "colab": {
          "base_uri": "https://localhost:8080/",
          "height": 410
        },
        "id": "65JfJWea5DuM",
        "outputId": "4f885cd0-a079-4c9e-eca0-7c2247d9cba2"
      },
      "outputs": [
        {
          "data": {
            "image/png": "[encoded data removed]",
            "text/plain": [
              "<Figure size 600x400 with 1 Axes>"
            ]
          },
          "metadata": {},
          "output_type": "display_data"
        }
      ],
      "source": [
        "#(ii) Boxplot for QRS_Mean_Error\n",
        "plt.figure(figsize=(6,4))\n",
        "sns.boxplot(x=\"ECG_Signal_Type\", y=\"QRS_Mean_Error\", data=df)\n",
        "plt.title(\"QRS Mean Error Distribution\")\n",
        "plt.show()"
      ]
    },
    {
      "cell_type": "markdown",
      "metadata": {
        "id": "f2phb-Th5K1r"
      },
      "source": [
        "5. Model Training (Classification)\n",
        "We'll now train a simple Random Forest Classifier to predict whether an ECG signal is Normal or Abnormal."
      ]
    },
    {
      "cell_type": "code",
      "execution_count": 10,
      "metadata": {
        "colab": {
          "base_uri": "https://localhost:8080/"
        },
        "id": "-3cESRLR5MXS",
        "outputId": "f2e72f95-adea-4951-84d6-59e2f396e862"
      },
      "outputs": [
        {
          "name": "stdout",
          "output_type": "stream",
          "text": [
            "Model Accuracy: 0.51\n"
          ]
        }
      ],
      "source": [
        "from sklearn.model_selection import train_test_split\n",
        "from sklearn.ensemble import RandomForestClassifier\n",
        "from sklearn.metrics import accuracy_score\n",
        "\n",
        "# Encode categorical variables\n",
        "df[\"ECG_Signal_Type\"] = df[\"ECG_Signal_Type\"].map({\"Normal\": 0, \"Abnormal\": 1})\n",
        "\n",
        "# Split data into features & labels\n",
        "X = df.drop(columns=[\"Signal_ID\", \"Label\"])\n",
        "y = df[\"Label\"]\n",
        "\n",
        "# Train-test split (80-20)\n",
        "X_train, X_test, y_train, y_test = train_test_split(X, y, test_size=0.2, random_state=42)\n",
        "\n",
        "# Train Random Forest Classifier\n",
        "clf = RandomForestClassifier(n_estimators=100, random_state=42)\n",
        "clf.fit(X_train, y_train)\n",
        "\n",
        "# Predictions\n",
        "y_pred = clf.predict(X_test)\n",
        "\n",
        "# Model Accuracy\n",
        "accuracy = accuracy_score(y_test, y_pred)\n",
        "print(f\"Model Accuracy: {accuracy:.2f}\")\n"
      ]
    }
  ],
  "metadata": {
    "colab": {
      "provenance": []
    },
    "kernelspec": {
      "display_name": "Python 3",
      "name": "python3"
    },
    "language_info": {
      "codemirror_mode": {
        "name": "ipython",
        "version": 3
      },
      "file_extension": ".py",
      "mimetype": "text/x-python",
      "name": "python",
      "nbconvert_exporter": "python",
      "pygments_lexer": "ipython3",
      "version": "3.9.6"
    }
  },
  "nbformat": 4,
  "nbformat_minor": 0
}
