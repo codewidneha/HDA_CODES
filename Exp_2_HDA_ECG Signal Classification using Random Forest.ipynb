{
  "nbformat": 4,
  "nbformat_minor": 0,
  "metadata": {
    "colab": {
      "provenance": []
    },
    "kernelspec": {
      "name": "python3",
      "display_name": "Python 3"
    },
    "language_info": {
      "name": "python"
    }
  },
  "cells": [
    {
      "cell_type": "code",
      "execution_count": null,
      "metadata": {
        "id": "UJokAIS_xHzK"
      },
      "outputs": [],
      "source": [
        "# ECG Signal Preprocessing & EDA\n",
        "# ============================\n",
        "import pandas as pd\n",
        "import numpy as np\n",
        "import seaborn as sns\n",
        "import matplotlib.pyplot as plt\n",
        "import ast\n",
        "from sklearn.preprocessing import MinMaxScaler"
      ]
    },
    {
      "cell_type": "code",
      "source": [
        "df = pd.read_csv(\"ecg_dataset_with_missing_values.csv\", on_bad_lines=\"skip\")\n",
        "\n"
      ],
      "metadata": {
        "id": "w6N4X8Gi2efX"
      },
      "execution_count": null,
      "outputs": []
    },
    {
      "cell_type": "code",
      "source": [
        "print(\"\\nMissing Values:\\n\", df.isnull().sum())"
      ],
      "metadata": {
        "colab": {
          "base_uri": "https://localhost:8080/"
        },
        "id": "U6kLQeKz2hrK",
        "outputId": "23ffa7c8-d24c-44b7-9ee4-7bc4e306e938"
      },
      "execution_count": null,
      "outputs": [
        {
          "output_type": "stream",
          "name": "stdout",
          "text": [
            "\n",
            "Missing Values:\n",
            " Signal_ID           0\n",
            "ECG_Signal_Type     0\n",
            "ECG_Values          0\n",
            "QRS_Mean_Error     50\n",
            "Label               0\n",
            "ECG_Mean           25\n",
            "dtype: int64\n"
          ]
        }
      ]
    },
    {
      "cell_type": "code",
      "source": [
        "# Fill missing values in 'QRS_Mean_Error' with median\n",
        "df[\"QRS_Mean_Error\"].fillna(df[\"QRS_Mean_Error\"].median(), inplace=True)\n",
        "\n",
        "# Fill missing values in 'ECG_Mean' with mean\n",
        "df[\"ECG_Mean\"].fillna(df[\"ECG_Mean\"].mean(), inplace=True)\n",
        "\n",
        "# Verify missing values are handled\n",
        "print(df.isnull().sum())\n"
      ],
      "metadata": {
        "colab": {
          "base_uri": "https://localhost:8080/"
        },
        "id": "SREFf3Y54cEX",
        "outputId": "fb0f9aa0-cca7-4ad6-9daa-6b6f96099d61"
      },
      "execution_count": null,
      "outputs": [
        {
          "output_type": "stream",
          "name": "stdout",
          "text": [
            "Signal_ID          0\n",
            "ECG_Signal_Type    0\n",
            "ECG_Values         0\n",
            "QRS_Mean_Error     0\n",
            "Label              0\n",
            "ECG_Mean           0\n",
            "dtype: int64\n"
          ]
        },
        {
          "output_type": "stream",
          "name": "stderr",
          "text": [
            "<ipython-input-11-5c332310ddc2>:2: FutureWarning: A value is trying to be set on a copy of a DataFrame or Series through chained assignment using an inplace method.\n",
            "The behavior will change in pandas 3.0. This inplace method will never work because the intermediate object on which we are setting values always behaves as a copy.\n",
            "\n",
            "For example, when doing 'df[col].method(value, inplace=True)', try using 'df.method({col: value}, inplace=True)' or df[col] = df[col].method(value) instead, to perform the operation inplace on the original object.\n",
            "\n",
            "\n",
            "  df[\"QRS_Mean_Error\"].fillna(df[\"QRS_Mean_Error\"].median(), inplace=True)\n",
            "<ipython-input-11-5c332310ddc2>:5: FutureWarning: A value is trying to be set on a copy of a DataFrame or Series through chained assignment using an inplace method.\n",
            "The behavior will change in pandas 3.0. This inplace method will never work because the intermediate object on which we are setting values always behaves as a copy.\n",
            "\n",
            "For example, when doing 'df[col].method(value, inplace=True)', try using 'df.method({col: value}, inplace=True)' or df[col] = df[col].method(value) instead, to perform the operation inplace on the original object.\n",
            "\n",
            "\n",
            "  df[\"ECG_Mean\"].fillna(df[\"ECG_Mean\"].mean(), inplace=True)\n"
          ]
        }
      ]
    },
    {
      "cell_type": "markdown",
      "source": [
        "normalization\n"
      ],
      "metadata": {
        "id": "H4OEHqao4nc8"
      }
    },
    {
      "cell_type": "code",
      "source": [
        "from sklearn.preprocessing import MinMaxScaler\n",
        "\n",
        "# Select numerical columns for normalization\n",
        "num_cols = [\"QRS_Mean_Error\", \"ECG_Mean\"]\n",
        "scaler = MinMaxScaler()\n",
        "\n",
        "df[num_cols] = scaler.fit_transform(df[num_cols])\n",
        "\n",
        "# Check normalized values\n",
        "print(df.head())\n"
      ],
      "metadata": {
        "colab": {
          "base_uri": "https://localhost:8080/"
        },
        "id": "aamcNpef4p-t",
        "outputId": "54ebbece-e0d0-47f1-d177-d5fcef355413"
      },
      "execution_count": null,
      "outputs": [
        {
          "output_type": "stream",
          "name": "stdout",
          "text": [
            "   Signal_ID ECG_Signal_Type  \\\n",
            "0          1          Normal   \n",
            "1          2        Abnormal   \n",
            "2          3        Abnormal   \n",
            "3          4          Normal   \n",
            "4          5          Normal   \n",
            "\n",
            "                                          ECG_Values  QRS_Mean_Error  Label  \\\n",
            "0  [0.34175597577715944, 1.8761708392158862, 0.95...        0.756055      1   \n",
            "1  [-0.6465728842425266, -1.081548003614395, 1.68...        0.627152      0   \n",
            "2  [-0.4593608995402441, -0.8498443694647918, 0.8...        0.424662      0   \n",
            "3  [-0.24032539815813503, -0.3748208075495975, 0....        0.789030      1   \n",
            "4  [0.8339221545489041, 0.4591800792284367, -0.07...        0.101244      0   \n",
            "\n",
            "   ECG_Mean  \n",
            "0  0.524775  \n",
            "1  0.400513  \n",
            "2  0.543877  \n",
            "3  0.555534  \n",
            "4  0.773739  \n"
          ]
        }
      ]
    },
    {
      "cell_type": "markdown",
      "source": [
        "Feature Extraction"
      ],
      "metadata": {
        "id": "x2ysoz6A4t8m"
      }
    },
    {
      "cell_type": "code",
      "source": [
        "# Convert ECG_Values (list of 100 values) into meaningful features\n",
        "df[\"ECG_Std\"] = df[\"ECG_Values\"].apply(lambda x: np.std(eval(x)))  # Standard Deviation\n",
        "df[\"ECG_Max\"] = df[\"ECG_Values\"].apply(lambda x: np.max(eval(x)))  # Max Value\n",
        "df[\"ECG_Min\"] = df[\"ECG_Values\"].apply(lambda x: np.min(eval(x)))  # Min Value\n",
        "\n",
        "# Drop ECG_Values column (not needed anymore)\n",
        "df.drop(columns=[\"ECG_Values\"], inplace=True)\n",
        "\n",
        "print(df.head())\n"
      ],
      "metadata": {
        "colab": {
          "base_uri": "https://localhost:8080/"
        },
        "id": "VxVmOlH64wG3",
        "outputId": "a398b197-d231-406a-c16a-1a63c8561091"
      },
      "execution_count": null,
      "outputs": [
        {
          "output_type": "stream",
          "name": "stdout",
          "text": [
            "   Signal_ID ECG_Signal_Type  QRS_Mean_Error  Label  ECG_Mean   ECG_Std  \\\n",
            "0          1          Normal        0.756055      1  0.524775  1.080294   \n",
            "1          2        Abnormal        0.627152      0  0.400513  0.968195   \n",
            "2          3        Abnormal        0.424662      0  0.543877  1.056035   \n",
            "3          4          Normal        0.789030      1  0.555534  0.962541   \n",
            "4          5          Normal        0.101244      0  0.773739  0.939766   \n",
            "\n",
            "    ECG_Max   ECG_Min  \n",
            "0  3.078881 -2.301921  \n",
            "1  2.270693 -2.471645  \n",
            "2  2.573360 -2.696887  \n",
            "3  2.632382 -2.081929  \n",
            "4  2.526932 -1.660961  \n"
          ]
        }
      ]
    },
    {
      "cell_type": "markdown",
      "source": [
        "4. Data Analytics & Visualization"
      ],
      "metadata": {
        "id": "NrFLwuXS41Ci"
      }
    },
    {
      "cell_type": "code",
      "source": [
        "#(i) Class Distribution\n",
        "import matplotlib.pyplot as plt\n",
        "import seaborn as sns\n",
        "\n",
        "# Countplot of ECG Signal Types\n",
        "plt.figure(figsize=(6,4))\n",
        "sns.countplot(x=\"ECG_Signal_Type\", data=df)\n",
        "plt.title(\"ECG Signal Type Distribution\")\n",
        "plt.show()"
      ],
      "metadata": {
        "colab": {
          "base_uri": "https://localhost:8080/",
          "height": 410
        },
        "id": "Nj8296zV42-f",
        "outputId": "49f97ae9-865a-4d44-997a-95eaa3eca901"
      },
      "execution_count": null,
      "outputs": [
        {
          "output_type": "display_data",
          "data": {
            "text/plain": [
              "<Figure size 600x400 with 1 Axes>"
            ],
            "image/png": "[encoded data removed]"
          },
          "metadata": {}
        }
      ]
    },
    {
      "cell_type": "code",
      "source": [
        "#(ii) Boxplot for QRS_Mean_Error\n",
        "plt.figure(figsize=(6,4))\n",
        "sns.boxplot(x=\"ECG_Signal_Type\", y=\"QRS_Mean_Error\", data=df)\n",
        "plt.title(\"QRS Mean Error Distribution\")\n",
        "plt.show()"
      ],
      "metadata": {
        "colab": {
          "base_uri": "https://localhost:8080/",
          "height": 410
        },
        "id": "65JfJWea5DuM",
        "outputId": "4f885cd0-a079-4c9e-eca0-7c2247d9cba2"
      },
      "execution_count": null,
      "outputs": [
        {
          "output_type": "display_data",
          "data": {
            "text/plain": [
              "<Figure size 600x400 with 1 Axes>"
            ],
            "image/png": "[encoded data removed]"
          },
          "metadata": {}
        }
      ]
    },
    {
      "cell_type": "markdown",
      "source": [
        "5. Model Training (Classification)\n",
        "We'll now train a simple Random Forest Classifier to predict whether an ECG signal is Normal or Abnormal."
      ],
      "metadata": {
        "id": "f2phb-Th5K1r"
      }
    },
    {
      "cell_type": "code",
      "source": [
        "from sklearn.model_selection import train_test_split\n",
        "from sklearn.ensemble import RandomForestClassifier\n",
        "from sklearn.metrics import accuracy_score\n",
        "\n",
        "# Encode categorical variables\n",
        "df[\"ECG_Signal_Type\"] = df[\"ECG_Signal_Type\"].map({\"Normal\": 0, \"Abnormal\": 1})\n",
        "\n",
        "# Split data into features & labels\n",
        "X = df.drop(columns=[\"Signal_ID\", \"Label\"])\n",
        "y = df[\"Label\"]\n",
        "\n",
        "# Train-test split (80-20)\n",
        "X_train, X_test, y_train, y_test = train_test_split(X, y, test_size=0.2, random_state=42)\n",
        "\n",
        "# Train Random Forest Classifier\n",
        "clf = RandomForestClassifier(n_estimators=100, random_state=42)\n",
        "clf.fit(X_train, y_train)\n",
        "\n",
        "# Predictions\n",
        "y_pred = clf.predict(X_test)\n",
        "\n",
        "# Model Accuracy\n",
        "accuracy = accuracy_score(y_test, y_pred)\n",
        "print(f\"Model Accuracy: {accuracy:.2f}\")\n"
      ],
      "metadata": {
        "id": "-3cESRLR5MXS",
        "outputId": "f2e72f95-adea-4951-84d6-59e2f396e862",
        "colab": {
          "base_uri": "https://localhost:8080/"
        }
      },
      "execution_count": null,
      "outputs": [
        {
          "output_type": "stream",
          "name": "stdout",
          "text": [
            "Model Accuracy: 0.50\n"
          ]
        }
      ]
    }
  ]
}